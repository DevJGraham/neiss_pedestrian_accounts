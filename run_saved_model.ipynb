{
 "cells": [
  {
   "cell_type": "markdown",
   "id": "d78d4dc3",
   "metadata": {},
   "source": [
    "# Run Fine-Tuned Bert Model\n",
    "This notebook demonstrates the inference pipeline for a fine-tuned BERT model developed for analyzing NEISS-related data. The model was trained in neiss_colab.ipynb with a focus on maximizing precision, and it is loaded directly from the Hugging Face Model Hub for efficient deployment."
   ]
  },
  {
   "cell_type": "code",
   "execution_count": null,
   "id": "f87583d6",
   "metadata": {},
   "outputs": [],
   "source": [
    "# Core libraries for data handling and manipulation\n",
    "import pandas as pd\n",
    "import numpy as np\n",
    "pd.set_option('display.max_columns', None)\n",
    "\n",
    "# Scikit-learn metrics for evaluating classification performance\n",
    "import seaborn as sns\n",
    "import matplotlib.pyplot as plt\n",
    "from sklearn.metrics import confusion_matrix, classification_report, ConfusionMatrixDisplay\n",
    "\n",
    "# Hugging Face datasets and transformers for model training and evaluation\n",
    "from datasets import Dataset, ClassLabel, Features, Value\n",
    "from transformers import AutoTokenizer, AutoModelForSequenceClassification, DataCollatorWithPadding\n",
    "from huggingface_hub import notebook_login\n",
    "\n",
    "# PyTorch for model definition and GPU acceleration\n",
    "import torch\n",
    "from torch.utils.data import DataLoader"
   ]
  },
  {
   "cell_type": "code",
   "execution_count": 26,
   "id": "304df80b",
   "metadata": {},
   "outputs": [
    {
     "name": "stdout",
     "output_type": "stream",
     "text": [
      "./data/neiss2014.tsv...\n",
      "./data/neiss2015.tsv...\n",
      "./data/neiss2016.tsv...\n",
      "./data/neiss2017.tsv...\n",
      "Exception Caught\n",
      "./data/neiss2017.tsv...\n"
     ]
    },
    {
     "name": "stderr",
     "output_type": "stream",
     "text": [
      "/var/folders/sz/hbk1460n5wdbf8wpmtyd24sc0000gn/T/ipykernel_88571/927198845.py:10: DtypeWarning: Columns (0) have mixed types. Specify dtype option on import or set low_memory=False.\n",
      "  print(len(pd.read_csv(path, sep='\\t', encoding='ISO-8859-1')))\n"
     ]
    },
    {
     "name": "stdout",
     "output_type": "stream",
     "text": [
      "386907\n"
     ]
    },
    {
     "name": "stderr",
     "output_type": "stream",
     "text": [
      "/var/folders/sz/hbk1460n5wdbf8wpmtyd24sc0000gn/T/ipykernel_88571/927198845.py:11: DtypeWarning: Columns (0) have mixed types. Specify dtype option on import or set low_memory=False.\n",
      "  df_list.append(pd.read_csv(path, sep='\\t', encoding='ISO-8859-1'))\n"
     ]
    },
    {
     "name": "stdout",
     "output_type": "stream",
     "text": [
      "./data/neiss2018.tsv...\n"
     ]
    },
    {
     "name": "stderr",
     "output_type": "stream",
     "text": [
      "/var/folders/sz/hbk1460n5wdbf8wpmtyd24sc0000gn/T/ipykernel_88571/927198845.py:6: DtypeWarning: Columns (0) have mixed types. Specify dtype option on import or set low_memory=False.\n",
      "  df_list.append(pd.read_csv(path, sep='\\t'))\n"
     ]
    },
    {
     "name": "stdout",
     "output_type": "stream",
     "text": [
      "./data/neiss2019.tsv...\n"
     ]
    },
    {
     "name": "stderr",
     "output_type": "stream",
     "text": [
      "/var/folders/sz/hbk1460n5wdbf8wpmtyd24sc0000gn/T/ipykernel_88571/927198845.py:6: DtypeWarning: Columns (0) have mixed types. Specify dtype option on import or set low_memory=False.\n",
      "  df_list.append(pd.read_csv(path, sep='\\t'))\n"
     ]
    },
    {
     "name": "stdout",
     "output_type": "stream",
     "text": [
      "./data/neiss2020.tsv...\n",
      "./data/neiss2021.tsv...\n"
     ]
    },
    {
     "name": "stderr",
     "output_type": "stream",
     "text": [
      "/var/folders/sz/hbk1460n5wdbf8wpmtyd24sc0000gn/T/ipykernel_88571/927198845.py:6: DtypeWarning: Columns (0) have mixed types. Specify dtype option on import or set low_memory=False.\n",
      "  df_list.append(pd.read_csv(path, sep='\\t'))\n"
     ]
    },
    {
     "name": "stdout",
     "output_type": "stream",
     "text": [
      "./data/neiss2022.tsv...\n",
      "./data/neiss2023.tsv...\n"
     ]
    },
    {
     "name": "stderr",
     "output_type": "stream",
     "text": [
      "/var/folders/sz/hbk1460n5wdbf8wpmtyd24sc0000gn/T/ipykernel_88571/927198845.py:6: DtypeWarning: Columns (0) have mixed types. Specify dtype option on import or set low_memory=False.\n",
      "  df_list.append(pd.read_csv(path, sep='\\t'))\n"
     ]
    }
   ],
   "source": [
    "df_list = []\n",
    "for year in range(2014, 2024):\n",
    "    path = f'./data/neiss{year}.tsv'\n",
    "    print(path, '...', sep='')\n",
    "    try:\n",
    "        df_list.append(pd.read_csv(path, sep='\\t'))\n",
    "    except UnicodeDecodeError:\n",
    "        print('Exception Caught')\n",
    "        print(path, '...', sep='')\n",
    "        print(len(pd.read_csv(path, sep='\\t', encoding='ISO-8859-1')))\n",
    "        df_list.append(pd.read_csv(path, sep='\\t', encoding='ISO-8859-1'))\n",
    "df = pd.concat(df_list, axis=0, ignore_index=True)"
   ]
  },
  {
   "cell_type": "code",
   "execution_count": 3,
   "id": "fdc07ba2",
   "metadata": {},
   "outputs": [
    {
     "data": {
      "text/html": [
       "<div>\n",
       "<style scoped>\n",
       "    .dataframe tbody tr th:only-of-type {\n",
       "        vertical-align: middle;\n",
       "    }\n",
       "\n",
       "    .dataframe tbody tr th {\n",
       "        vertical-align: top;\n",
       "    }\n",
       "\n",
       "    .dataframe thead th {\n",
       "        text-align: right;\n",
       "    }\n",
       "</style>\n",
       "<table border=\"1\" class=\"dataframe\">\n",
       "  <thead>\n",
       "    <tr style=\"text-align: right;\">\n",
       "      <th></th>\n",
       "      <th>CPSC_Case_Number</th>\n",
       "      <th>Treatment_Date</th>\n",
       "      <th>Age</th>\n",
       "      <th>Sex</th>\n",
       "      <th>Race</th>\n",
       "      <th>Other_Race</th>\n",
       "      <th>Hispanic</th>\n",
       "      <th>Body_Part</th>\n",
       "      <th>Diagnosis</th>\n",
       "      <th>Other_Diagnosis</th>\n",
       "      <th>Body_Part_2</th>\n",
       "      <th>Diagnosis_2</th>\n",
       "      <th>Other_Diagnosis_2</th>\n",
       "      <th>Disposition</th>\n",
       "      <th>Location</th>\n",
       "      <th>Fire_Involvement</th>\n",
       "      <th>Product_1</th>\n",
       "      <th>Product_2</th>\n",
       "      <th>Product_3</th>\n",
       "      <th>Alcohol</th>\n",
       "      <th>Drug</th>\n",
       "      <th>Narrative_1</th>\n",
       "      <th>Stratum</th>\n",
       "      <th>PSU</th>\n",
       "      <th>Weight</th>\n",
       "    </tr>\n",
       "  </thead>\n",
       "  <tbody>\n",
       "    <tr>\n",
       "      <th>0</th>\n",
       "      <td>140103999.0</td>\n",
       "      <td>01/01/2014</td>\n",
       "      <td>32</td>\n",
       "      <td>1.0</td>\n",
       "      <td>1.0</td>\n",
       "      <td>NaN</td>\n",
       "      <td>NaN</td>\n",
       "      <td>31.0</td>\n",
       "      <td>53.0</td>\n",
       "      <td>NaN</td>\n",
       "      <td>NaN</td>\n",
       "      <td>NaN</td>\n",
       "      <td>NaN</td>\n",
       "      <td>1.0</td>\n",
       "      <td>0.0</td>\n",
       "      <td>0.0</td>\n",
       "      <td>1211.0</td>\n",
       "      <td>0.0</td>\n",
       "      <td>0.0</td>\n",
       "      <td>NaN</td>\n",
       "      <td>NaN</td>\n",
       "      <td>32 YOM CO PAIN IN THE CHEST AFTER FALLING WHIL...</td>\n",
       "      <td>S</td>\n",
       "      <td>98.0</td>\n",
       "      <td>80.0213</td>\n",
       "    </tr>\n",
       "    <tr>\n",
       "      <th>1</th>\n",
       "      <td>140104001.0</td>\n",
       "      <td>01/01/2014</td>\n",
       "      <td>18</td>\n",
       "      <td>1.0</td>\n",
       "      <td>1.0</td>\n",
       "      <td>NaN</td>\n",
       "      <td>NaN</td>\n",
       "      <td>82.0</td>\n",
       "      <td>51.0</td>\n",
       "      <td>NaN</td>\n",
       "      <td>NaN</td>\n",
       "      <td>NaN</td>\n",
       "      <td>NaN</td>\n",
       "      <td>1.0</td>\n",
       "      <td>1.0</td>\n",
       "      <td>2.0</td>\n",
       "      <td>910.0</td>\n",
       "      <td>0.0</td>\n",
       "      <td>0.0</td>\n",
       "      <td>NaN</td>\n",
       "      <td>NaN</td>\n",
       "      <td>18 YOM BURNED LT HAND WHILE POURING GASOLINE O...</td>\n",
       "      <td>S</td>\n",
       "      <td>98.0</td>\n",
       "      <td>80.0213</td>\n",
       "    </tr>\n",
       "    <tr>\n",
       "      <th>2</th>\n",
       "      <td>140104003.0</td>\n",
       "      <td>01/01/2014</td>\n",
       "      <td>31</td>\n",
       "      <td>2.0</td>\n",
       "      <td>1.0</td>\n",
       "      <td>NaN</td>\n",
       "      <td>NaN</td>\n",
       "      <td>37.0</td>\n",
       "      <td>64.0</td>\n",
       "      <td>NaN</td>\n",
       "      <td>NaN</td>\n",
       "      <td>NaN</td>\n",
       "      <td>NaN</td>\n",
       "      <td>1.0</td>\n",
       "      <td>1.0</td>\n",
       "      <td>0.0</td>\n",
       "      <td>1807.0</td>\n",
       "      <td>0.0</td>\n",
       "      <td>0.0</td>\n",
       "      <td>NaN</td>\n",
       "      <td>NaN</td>\n",
       "      <td>31 YOF STATES SHE FELL THROUGH THE BATHROOM FL...</td>\n",
       "      <td>S</td>\n",
       "      <td>98.0</td>\n",
       "      <td>80.0213</td>\n",
       "    </tr>\n",
       "    <tr>\n",
       "      <th>3</th>\n",
       "      <td>140104670.0</td>\n",
       "      <td>01/01/2014</td>\n",
       "      <td>53</td>\n",
       "      <td>2.0</td>\n",
       "      <td>1.0</td>\n",
       "      <td>NaN</td>\n",
       "      <td>NaN</td>\n",
       "      <td>82.0</td>\n",
       "      <td>59.0</td>\n",
       "      <td>NaN</td>\n",
       "      <td>NaN</td>\n",
       "      <td>NaN</td>\n",
       "      <td>NaN</td>\n",
       "      <td>1.0</td>\n",
       "      <td>1.0</td>\n",
       "      <td>0.0</td>\n",
       "      <td>478.0</td>\n",
       "      <td>0.0</td>\n",
       "      <td>0.0</td>\n",
       "      <td>NaN</td>\n",
       "      <td>NaN</td>\n",
       "      <td>53YOF WASHING DISHES AT HOME, A GLASS BROKE AN...</td>\n",
       "      <td>S</td>\n",
       "      <td>29.0</td>\n",
       "      <td>80.0213</td>\n",
       "    </tr>\n",
       "    <tr>\n",
       "      <th>4</th>\n",
       "      <td>140104672.0</td>\n",
       "      <td>01/01/2014</td>\n",
       "      <td>23</td>\n",
       "      <td>1.0</td>\n",
       "      <td>1.0</td>\n",
       "      <td>NaN</td>\n",
       "      <td>NaN</td>\n",
       "      <td>30.0</td>\n",
       "      <td>57.0</td>\n",
       "      <td>NaN</td>\n",
       "      <td>NaN</td>\n",
       "      <td>NaN</td>\n",
       "      <td>NaN</td>\n",
       "      <td>1.0</td>\n",
       "      <td>9.0</td>\n",
       "      <td>0.0</td>\n",
       "      <td>3286.0</td>\n",
       "      <td>0.0</td>\n",
       "      <td>0.0</td>\n",
       "      <td>NaN</td>\n",
       "      <td>NaN</td>\n",
       "      <td>23YOM RIDING AN ATV, ROLLED OVER, HURT SHOULDE...</td>\n",
       "      <td>S</td>\n",
       "      <td>29.0</td>\n",
       "      <td>80.0213</td>\n",
       "    </tr>\n",
       "  </tbody>\n",
       "</table>\n",
       "</div>"
      ],
      "text/plain": [
       "   CPSC_Case_Number Treatment_Date  Age  Sex  Race Other_Race  Hispanic  \\\n",
       "0       140103999.0     01/01/2014   32  1.0   1.0        NaN       NaN   \n",
       "1       140104001.0     01/01/2014   18  1.0   1.0        NaN       NaN   \n",
       "2       140104003.0     01/01/2014   31  2.0   1.0        NaN       NaN   \n",
       "3       140104670.0     01/01/2014   53  2.0   1.0        NaN       NaN   \n",
       "4       140104672.0     01/01/2014   23  1.0   1.0        NaN       NaN   \n",
       "\n",
       "   Body_Part  Diagnosis Other_Diagnosis  Body_Part_2  Diagnosis_2  \\\n",
       "0       31.0       53.0             NaN          NaN          NaN   \n",
       "1       82.0       51.0             NaN          NaN          NaN   \n",
       "2       37.0       64.0             NaN          NaN          NaN   \n",
       "3       82.0       59.0             NaN          NaN          NaN   \n",
       "4       30.0       57.0             NaN          NaN          NaN   \n",
       "\n",
       "  Other_Diagnosis_2  Disposition  Location  Fire_Involvement  Product_1  \\\n",
       "0               NaN          1.0       0.0               0.0     1211.0   \n",
       "1               NaN          1.0       1.0               2.0      910.0   \n",
       "2               NaN          1.0       1.0               0.0     1807.0   \n",
       "3               NaN          1.0       1.0               0.0      478.0   \n",
       "4               NaN          1.0       9.0               0.0     3286.0   \n",
       "\n",
       "   Product_2  Product_3  Alcohol  Drug  \\\n",
       "0        0.0        0.0      NaN   NaN   \n",
       "1        0.0        0.0      NaN   NaN   \n",
       "2        0.0        0.0      NaN   NaN   \n",
       "3        0.0        0.0      NaN   NaN   \n",
       "4        0.0        0.0      NaN   NaN   \n",
       "\n",
       "                                         Narrative_1 Stratum   PSU   Weight  \n",
       "0  32 YOM CO PAIN IN THE CHEST AFTER FALLING WHIL...       S  98.0  80.0213  \n",
       "1  18 YOM BURNED LT HAND WHILE POURING GASOLINE O...       S  98.0  80.0213  \n",
       "2  31 YOF STATES SHE FELL THROUGH THE BATHROOM FL...       S  98.0  80.0213  \n",
       "3  53YOF WASHING DISHES AT HOME, A GLASS BROKE AN...       S  29.0  80.0213  \n",
       "4  23YOM RIDING AN ATV, ROLLED OVER, HURT SHOULDE...       S  29.0  80.0213  "
      ]
     },
     "execution_count": 3,
     "metadata": {},
     "output_type": "execute_result"
    }
   ],
   "source": [
    "df.head()"
   ]
  },
  {
   "cell_type": "code",
   "execution_count": 4,
   "id": "62d83f37",
   "metadata": {},
   "outputs": [
    {
     "data": {
      "text/plain": [
       "3520522"
      ]
     },
     "execution_count": 4,
     "metadata": {},
     "output_type": "execute_result"
    }
   ],
   "source": [
    "len(df)"
   ]
  },
  {
   "cell_type": "code",
   "execution_count": 5,
   "id": "fe07cc74",
   "metadata": {},
   "outputs": [],
   "source": [
    "# Drop records with missing Narrative_1 data\n",
    "df.drop(df[df['Narrative_1'].isnull()].index, axis=0, inplace=True)"
   ]
  },
  {
   "cell_type": "code",
   "execution_count": 6,
   "id": "a48f0de6",
   "metadata": {},
   "outputs": [],
   "source": [
    "# Reading in the pre-labeled data\n",
    "labeled_df = pd.read_csv(\"./data/hand_labeled_samples_487.csv\")"
   ]
  },
  {
   "cell_type": "code",
   "execution_count": 7,
   "id": "88a99845",
   "metadata": {},
   "outputs": [
    {
     "data": {
      "text/html": [
       "<div>\n",
       "<style scoped>\n",
       "    .dataframe tbody tr th:only-of-type {\n",
       "        vertical-align: middle;\n",
       "    }\n",
       "\n",
       "    .dataframe tbody tr th {\n",
       "        vertical-align: top;\n",
       "    }\n",
       "\n",
       "    .dataframe thead th {\n",
       "        text-align: right;\n",
       "    }\n",
       "</style>\n",
       "<table border=\"1\" class=\"dataframe\">\n",
       "  <thead>\n",
       "    <tr style=\"text-align: right;\">\n",
       "      <th></th>\n",
       "      <th>Narrative_1</th>\n",
       "      <th>Human Label</th>\n",
       "      <th>CPSC_Case_Number</th>\n",
       "      <th>Treatment_Date</th>\n",
       "      <th>Age</th>\n",
       "      <th>Sex</th>\n",
       "      <th>Race</th>\n",
       "      <th>Other_Race</th>\n",
       "      <th>Hispanic</th>\n",
       "      <th>Body_Part</th>\n",
       "      <th>Diagnosis</th>\n",
       "      <th>Other_Diagnosis</th>\n",
       "      <th>Body_Part_2</th>\n",
       "      <th>Diagnosis_2</th>\n",
       "      <th>Other_Diagnosis_2</th>\n",
       "      <th>Disposition</th>\n",
       "      <th>Location</th>\n",
       "      <th>Fire_Involvement</th>\n",
       "      <th>Product_1</th>\n",
       "      <th>Product_2</th>\n",
       "      <th>Product_3</th>\n",
       "      <th>Alcohol</th>\n",
       "      <th>Drug</th>\n",
       "      <th>Stratum</th>\n",
       "      <th>PSU</th>\n",
       "      <th>Weight</th>\n",
       "    </tr>\n",
       "  </thead>\n",
       "  <tbody>\n",
       "    <tr>\n",
       "      <th>0</th>\n",
       "      <td>16YOM PRESENTS AFTER BEING PEDESTRIAN STRUCK W...</td>\n",
       "      <td>0</td>\n",
       "      <td>201227717.0</td>\n",
       "      <td>10/06/2020</td>\n",
       "      <td>16</td>\n",
       "      <td>1.0</td>\n",
       "      <td>1.0</td>\n",
       "      <td>NaN</td>\n",
       "      <td>2.0</td>\n",
       "      <td>87.0</td>\n",
       "      <td>71.0</td>\n",
       "      <td>NS</td>\n",
       "      <td>NaN</td>\n",
       "      <td>NaN</td>\n",
       "      <td>NaN</td>\n",
       "      <td>1.0</td>\n",
       "      <td>4.0</td>\n",
       "      <td>0.0</td>\n",
       "      <td>5040.0</td>\n",
       "      <td>0.0</td>\n",
       "      <td>0.0</td>\n",
       "      <td>0.0</td>\n",
       "      <td>0.0</td>\n",
       "      <td>V</td>\n",
       "      <td>57.0</td>\n",
       "      <td>15.9992</td>\n",
       "    </tr>\n",
       "    <tr>\n",
       "      <th>1</th>\n",
       "      <td>55 YOM DX NECK AND BACK PAIN - S/P PT PEDESTRI...</td>\n",
       "      <td>0</td>\n",
       "      <td>160206064.0</td>\n",
       "      <td>01/04/2016</td>\n",
       "      <td>55</td>\n",
       "      <td>1.0</td>\n",
       "      <td>2.0</td>\n",
       "      <td>NaN</td>\n",
       "      <td>NaN</td>\n",
       "      <td>89.0</td>\n",
       "      <td>71.0</td>\n",
       "      <td>NECK/BACK PAIN</td>\n",
       "      <td>NaN</td>\n",
       "      <td>NaN</td>\n",
       "      <td>NaN</td>\n",
       "      <td>1.0</td>\n",
       "      <td>4.0</td>\n",
       "      <td>0.0</td>\n",
       "      <td>1329.0</td>\n",
       "      <td>0.0</td>\n",
       "      <td>0.0</td>\n",
       "      <td>NaN</td>\n",
       "      <td>NaN</td>\n",
       "      <td>V</td>\n",
       "      <td>57.0</td>\n",
       "      <td>16.1154</td>\n",
       "    </tr>\n",
       "    <tr>\n",
       "      <th>2</th>\n",
       "      <td>23YOM WITH ELBOW PAIN AFTER RIDING MOPED TO WO...</td>\n",
       "      <td>0</td>\n",
       "      <td>231242909.0</td>\n",
       "      <td>12/13/2023</td>\n",
       "      <td>23</td>\n",
       "      <td>1.0</td>\n",
       "      <td>2.0</td>\n",
       "      <td>NaN</td>\n",
       "      <td>2.0</td>\n",
       "      <td>32.0</td>\n",
       "      <td>57.0</td>\n",
       "      <td>NaN</td>\n",
       "      <td>NaN</td>\n",
       "      <td>NaN</td>\n",
       "      <td>NaN</td>\n",
       "      <td>1.0</td>\n",
       "      <td>4.0</td>\n",
       "      <td>0.0</td>\n",
       "      <td>3215.0</td>\n",
       "      <td>0.0</td>\n",
       "      <td>0.0</td>\n",
       "      <td>0.0</td>\n",
       "      <td>0.0</td>\n",
       "      <td>L</td>\n",
       "      <td>51.0</td>\n",
       "      <td>55.4417</td>\n",
       "    </tr>\n",
       "    <tr>\n",
       "      <th>3</th>\n",
       "      <td>50YOM W/THORACIC &amp; LUMBAR BACK STRAIN S/P PEDE...</td>\n",
       "      <td>1</td>\n",
       "      <td>160333168.0</td>\n",
       "      <td>02/05/2016</td>\n",
       "      <td>50</td>\n",
       "      <td>1.0</td>\n",
       "      <td>0.0</td>\n",
       "      <td>NaN</td>\n",
       "      <td>NaN</td>\n",
       "      <td>31.0</td>\n",
       "      <td>64.0</td>\n",
       "      <td>NaN</td>\n",
       "      <td>NaN</td>\n",
       "      <td>NaN</td>\n",
       "      <td>NaN</td>\n",
       "      <td>1.0</td>\n",
       "      <td>0.0</td>\n",
       "      <td>0.0</td>\n",
       "      <td>1684.0</td>\n",
       "      <td>0.0</td>\n",
       "      <td>0.0</td>\n",
       "      <td>NaN</td>\n",
       "      <td>NaN</td>\n",
       "      <td>V</td>\n",
       "      <td>41.0</td>\n",
       "      <td>15.3480</td>\n",
       "    </tr>\n",
       "    <tr>\n",
       "      <th>4</th>\n",
       "      <td>^66YOM PEDESTRIAN WHO JUMPED TO GET OUT OF WAY...</td>\n",
       "      <td>0</td>\n",
       "      <td>151107022.0</td>\n",
       "      <td>09/05/2015</td>\n",
       "      <td>66</td>\n",
       "      <td>1.0</td>\n",
       "      <td>0.0</td>\n",
       "      <td>NaN</td>\n",
       "      <td>NaN</td>\n",
       "      <td>37.0</td>\n",
       "      <td>71.0</td>\n",
       "      <td>PAIN</td>\n",
       "      <td>NaN</td>\n",
       "      <td>NaN</td>\n",
       "      <td>NaN</td>\n",
       "      <td>1.0</td>\n",
       "      <td>4.0</td>\n",
       "      <td>0.0</td>\n",
       "      <td>1871.0</td>\n",
       "      <td>0.0</td>\n",
       "      <td>0.0</td>\n",
       "      <td>NaN</td>\n",
       "      <td>NaN</td>\n",
       "      <td>V</td>\n",
       "      <td>41.0</td>\n",
       "      <td>15.7762</td>\n",
       "    </tr>\n",
       "  </tbody>\n",
       "</table>\n",
       "</div>"
      ],
      "text/plain": [
       "                                         Narrative_1  Human Label  \\\n",
       "0  16YOM PRESENTS AFTER BEING PEDESTRIAN STRUCK W...            0   \n",
       "1  55 YOM DX NECK AND BACK PAIN - S/P PT PEDESTRI...            0   \n",
       "2  23YOM WITH ELBOW PAIN AFTER RIDING MOPED TO WO...            0   \n",
       "3  50YOM W/THORACIC & LUMBAR BACK STRAIN S/P PEDE...            1   \n",
       "4  ^66YOM PEDESTRIAN WHO JUMPED TO GET OUT OF WAY...            0   \n",
       "\n",
       "   CPSC_Case_Number Treatment_Date  Age  Sex  Race Other_Race  Hispanic  \\\n",
       "0       201227717.0     10/06/2020   16  1.0   1.0        NaN       2.0   \n",
       "1       160206064.0     01/04/2016   55  1.0   2.0        NaN       NaN   \n",
       "2       231242909.0     12/13/2023   23  1.0   2.0        NaN       2.0   \n",
       "3       160333168.0     02/05/2016   50  1.0   0.0        NaN       NaN   \n",
       "4       151107022.0     09/05/2015   66  1.0   0.0        NaN       NaN   \n",
       "\n",
       "   Body_Part  Diagnosis Other_Diagnosis  Body_Part_2  Diagnosis_2  \\\n",
       "0       87.0       71.0              NS          NaN          NaN   \n",
       "1       89.0       71.0  NECK/BACK PAIN          NaN          NaN   \n",
       "2       32.0       57.0             NaN          NaN          NaN   \n",
       "3       31.0       64.0             NaN          NaN          NaN   \n",
       "4       37.0       71.0            PAIN          NaN          NaN   \n",
       "\n",
       "  Other_Diagnosis_2  Disposition  Location  Fire_Involvement  Product_1  \\\n",
       "0               NaN          1.0       4.0               0.0     5040.0   \n",
       "1               NaN          1.0       4.0               0.0     1329.0   \n",
       "2               NaN          1.0       4.0               0.0     3215.0   \n",
       "3               NaN          1.0       0.0               0.0     1684.0   \n",
       "4               NaN          1.0       4.0               0.0     1871.0   \n",
       "\n",
       "   Product_2  Product_3  Alcohol  Drug Stratum   PSU   Weight  \n",
       "0        0.0        0.0      0.0   0.0       V  57.0  15.9992  \n",
       "1        0.0        0.0      NaN   NaN       V  57.0  16.1154  \n",
       "2        0.0        0.0      0.0   0.0       L  51.0  55.4417  \n",
       "3        0.0        0.0      NaN   NaN       V  41.0  15.3480  \n",
       "4        0.0        0.0      NaN   NaN       V  41.0  15.7762  "
      ]
     },
     "execution_count": 7,
     "metadata": {},
     "output_type": "execute_result"
    }
   ],
   "source": [
    "labeled_df.head()"
   ]
  },
  {
   "cell_type": "code",
   "execution_count": 8,
   "id": "8a449034",
   "metadata": {},
   "outputs": [],
   "source": [
    "# Function to concatentate all useful information along with the narrative\n",
    "def concat_narrative(row):\n",
    "  body_part = row['Body_Part']\n",
    "  diagnosis = row['Diagnosis']\n",
    "  disposition = row['Disposition']\n",
    "  product = row['Product_1']\n",
    "  narrative = row['Narrative_1']\n",
    "\n",
    "  return f\"Product Code: {product}. Body Part Code: {body_part}. Diagnosis Code: {diagnosis}. Disposition Code: {disposition}. Narrative: {narrative}\""
   ]
  },
  {
   "cell_type": "code",
   "execution_count": 9,
   "id": "bf47d452",
   "metadata": {},
   "outputs": [
    {
     "data": {
      "text/plain": [
       "0      Product Code: 5040.0. Body Part Code: 87.0. Di...\n",
       "1      Product Code: 1329.0. Body Part Code: 89.0. Di...\n",
       "2      Product Code: 3215.0. Body Part Code: 32.0. Di...\n",
       "3      Product Code: 1684.0. Body Part Code: 31.0. Di...\n",
       "4      Product Code: 1871.0. Body Part Code: 37.0. Di...\n",
       "                             ...                        \n",
       "482    Product Code: 1333.0. Body Part Code: 79.0. Di...\n",
       "483    Product Code: 1744.0. Body Part Code: 87.0. Di...\n",
       "484    Product Code: 5024.0. Body Part Code: 81.0. Di...\n",
       "485    Product Code: 5022.0. Body Part Code: 35.0. Di...\n",
       "486    Product Code: 1329.0. Body Part Code: 76.0. Di...\n",
       "Name: concat_narrative, Length: 487, dtype: object"
      ]
     },
     "execution_count": 9,
     "metadata": {},
     "output_type": "execute_result"
    }
   ],
   "source": [
    "labeled_df['concat_narrative'] = labeled_df.apply(concat_narrative, axis=1)\n",
    "labeled_df['concat_narrative']"
   ]
  },
  {
   "cell_type": "code",
   "execution_count": 10,
   "id": "937ed75d",
   "metadata": {},
   "outputs": [],
   "source": [
    "model = AutoModelForSequenceClassification.from_pretrained('DevJGraham/neiss_clf_bert_uncased')"
   ]
  },
  {
   "cell_type": "code",
   "execution_count": 11,
   "id": "b9a8b85b",
   "metadata": {},
   "outputs": [],
   "source": [
    "tokenizer = AutoTokenizer.from_pretrained('DevJGraham/neiss_clf_bert_uncased')"
   ]
  },
  {
   "cell_type": "code",
   "execution_count": 12,
   "id": "9d5f7ca3",
   "metadata": {},
   "outputs": [],
   "source": [
    "# This is the cell that is affected by the numpy downgrade. If you run into an issue here, restart your runtime session and run the cells in the notebook again\n",
    "\n",
    "# In order to stratify by the labels, you must set them as features in the dataset\n",
    "features = Features({\n",
    "    'text': Value('string'),\n",
    "    'labels': ClassLabel(names=[\"Not Pedestrian\", \"Pedestrian\"])\n",
    "})\n",
    "\n",
    "# Create a huggingface dataset only containing the text (concat_narrative) and the labels (Human Label)\n",
    "dataset = Dataset.from_pandas(\n",
    "    df=labeled_df.rename(columns={'concat_narrative':'text', 'Human Label': 'labels'}).reset_index(drop=True)[['labels','text']],\n",
    "    features=features\n",
    ")\n",
    "\n",
    "# Split the data into a train and validation set, stratifying by the labels\n",
    "dataset = dataset.train_test_split(test_size=0.2, seed=42, stratify_by_column='labels')"
   ]
  },
  {
   "cell_type": "code",
   "execution_count": 13,
   "id": "b748ffdd",
   "metadata": {},
   "outputs": [
    {
     "data": {
      "application/vnd.jupyter.widget-view+json": {
       "model_id": "97544d156bbd4f7f99603c148cebb0eb",
       "version_major": 2,
       "version_minor": 0
      },
      "text/plain": [
       "Map:   0%|          | 0/389 [00:00<?, ? examples/s]"
      ]
     },
     "metadata": {},
     "output_type": "display_data"
    },
    {
     "data": {
      "application/vnd.jupyter.widget-view+json": {
       "model_id": "19f8860c21684fcd8faf1f7ede4e23b9",
       "version_major": 2,
       "version_minor": 0
      },
      "text/plain": [
       "Map:   0%|          | 0/98 [00:00<?, ? examples/s]"
      ]
     },
     "metadata": {},
     "output_type": "display_data"
    }
   ],
   "source": [
    "data_collator = DataCollatorWithPadding(tokenizer=tokenizer)\n",
    "\n",
    "def tokenize(sample):\n",
    "    return tokenizer(\n",
    "        sample['text'],\n",
    "        truncation=True\n",
    "    )\n",
    "\n",
    "results = dataset.map(tokenize, batched=True)"
   ]
  },
  {
   "cell_type": "code",
   "execution_count": 22,
   "id": "5ed0254d",
   "metadata": {},
   "outputs": [
    {
     "name": "stdout",
     "output_type": "stream",
     "text": [
      "              precision    recall  f1-score   support\n",
      "\n",
      "           0      0.949     0.902     0.925        41\n",
      "           1      0.932     0.965     0.948        57\n",
      "\n",
      "    accuracy                          0.939        98\n",
      "   macro avg      0.940     0.934     0.937        98\n",
      "weighted avg      0.939     0.939     0.939        98\n",
      "\n"
     ]
    }
   ],
   "source": [
    "# Set the model to evaluation mode (disables dropout and gradient tracking for layers that behave differently during training)\n",
    "model.eval()\n",
    "\n",
    "# Move the model to Compute Unified Device Architecture (cuda), a parallel computing platform and application programming interface (API) model created by NVIDIA\n",
    "model.to('cpu')\n",
    "\n",
    "# Loading the data to be batched and collated the same way during eval as it was during training\n",
    "train_loader = DataLoader(\n",
    "    results['test'].remove_columns(['text']),\n",
    "    batch_size=8,\n",
    "    collate_fn=data_collator\n",
    ")\n",
    "\n",
    "all_preds = []\n",
    "all_labels = []\n",
    "\n",
    "with torch.no_grad(): # Does not track gradients for evaluation\n",
    "  for batch in train_loader:\n",
    "    # Move each tensor in the batch to the GPU\n",
    "    batch = {k: v.to('cpu') for k, v in batch.items()}\n",
    "    \n",
    "    # Run the model forward pass and get output logits\n",
    "    outputs = model(**batch)\n",
    "    \n",
    "    # Select the index of the highest logit as the predicted class\n",
    "    preds = torch.argmax(outputs.logits, dim=1)\n",
    "\n",
    "    all_preds.extend(preds.cpu().numpy())\n",
    "    all_labels.extend(batch['labels'].cpu().numpy())\n",
    "\n",
    "print(classification_report(all_labels, all_preds, digits=3))"
   ]
  },
  {
   "cell_type": "code",
   "execution_count": 25,
   "id": "90cbf768",
   "metadata": {},
   "outputs": [
    {
     "data": {
      "image/png": "[encoded data removed]",
      "text/plain": [
       "<Figure size 640x480 with 2 Axes>"
      ]
     },
     "metadata": {},
     "output_type": "display_data"
    }
   ],
   "source": [
    "cm_display = ConfusionMatrixDisplay(confusion_matrix(all_labels, all_preds))\n",
    "cm_display.plot(cmap='YlGnBu')\n",
    "plt.show()"
   ]
  },
  {
   "cell_type": "code",
   "execution_count": null,
   "id": "3af8b66e",
   "metadata": {},
   "outputs": [],
   "source": []
  }
 ],
 "metadata": {
  "kernelspec": {
   "display_name": "hf_env",
   "language": "python",
   "name": "python3"
  },
  "language_info": {
   "codemirror_mode": {
    "name": "ipython",
    "version": 3
   },
   "file_extension": ".py",
   "mimetype": "text/x-python",
   "name": "python",
   "nbconvert_exporter": "python",
   "pygments_lexer": "ipython3",
   "version": "3.11.11"
  }
 },
 "nbformat": 4,
 "nbformat_minor": 5
}
