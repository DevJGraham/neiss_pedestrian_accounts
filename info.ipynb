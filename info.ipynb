{
 "cells": [
  {
   "cell_type": "code",
   "execution_count": 1,
   "metadata": {},
   "outputs": [],
   "source": [
    "values_Product_1 = [\n",
    "    \"1901\", # \n",
    "    \"1744\", # Motorized vehicles, not elsewhere classified (three or more wheels).\n",
    "    \"5040\", # Bicycles or accessories (excl. mountain or all-terrain bicycles).\n",
    "    \"5033\", # Mountain or all-terrain bicycles or accessories.\n",
    "    \"3258\", # \n",
    "    \"1333\", # Skateboards, unpowered or unspecified \n",
    "    \"5022\", # Scooters, powered\n",
    "    \"5023\", # Scooters, unpowered\n",
    "    \"5024\", # Scooters, unspecified.\n",
    "    \"5025\", # Unicycles, powered Use: Hoverboards and powered skateboards \n",
    "    \"1202\", # \n",
    "    \"3215\", # \n",
    "    \"3216\", # Roller skating (activity/apparel/equipment).\n",
    "    \"1200\", # Bull riding Use: Sport or recreational activity,\n",
    "    \"1283\", # Unicycles, unpowered or unspecified\n",
    "    \"1301\", # Tricycles, children's\n",
    "    \"3202\", # Pedal-powered adult vehicles (3 or more wheels) .\n",
    "    \"1329\", #\n",
    "    \"1398\", # Balance bikes or push bikes for toddlers Use: Wheeled riding toys, unpowered (excl. bicycles and tricycles).\n",
    "    \"1910\", #\n",
    "    \"3299\", # Aerobics Use: Exercise (activity and apparel without equipment; incl. aerobics, stretching, walking, jogging and running (excl. track and field)\n",
    "    \"5035\", # Minibikes, powered.\n",
    "    \"5042\" # \n",
    "    ]\n",
    "\n",
    "values_Location = [\"4\", \"5\"]\n",
    "\n",
    "search_words = [\n",
    "    \"walking\", \"walk\", \"jogging\", \"jog\", \"running\", \"run\", \"on foot\", \"bystander\",\n",
    "    \"standing\", \"biking\", \"bike\", \"roller skating\", \"roller skates\", \"skateboarding\",\n",
    "    \"skateboard\", \"scootering\", \"scooter\"\n",
    "]"
   ]
  },
  {
   "cell_type": "code",
   "execution_count": 1,
   "metadata": {},
   "outputs": [],
   "source": [
    "neiss_rules = \"\"\"\n",
    "A pedestrian injury is defined as An unintentional injury sustained in a motor vehicle crash on a public roadway \n",
    "by an individual not initially on or inside of the motor vehicle \n",
    "(includes individuals on foot, skateboards, roller skates, bicycles not specified to be electric bicycles, and scooters not specified to be electric scooters). \n",
    "\n",
    "A motor vehicle includes cars, pickup trucks, vans, heavy transport vehicles, buses, sport utility vehicles, motorcyclists, e-bikes, and e-scooters.\n",
    "\n",
    "Based on the account provided, determine the appropriate classification: \n",
    "Return '1' if the incident involves a pedestrian injury from a motor vehicle. \n",
    "Return '0' if the account is not af a pedestrian injury due to a motor vehicle. \n",
    "Return '-1' if you are unsure and think this should be reviewed by a human\n",
    "\"\"\""
   ]
  },
  {
   "cell_type": "code",
   "execution_count": null,
   "metadata": {},
   "outputs": [],
   "source": []
  }
 ],
 "metadata": {
  "kernelspec": {
   "display_name": "hf_env",
   "language": "python",
   "name": "python3"
  },
  "language_info": {
   "codemirror_mode": {
    "name": "ipython",
    "version": 3
   },
   "file_extension": ".py",
   "mimetype": "text/x-python",
   "name": "python",
   "nbconvert_exporter": "python",
   "pygments_lexer": "ipython3",
   "version": "3.11.11"
  }
 },
 "nbformat": 4,
 "nbformat_minor": 2
}
