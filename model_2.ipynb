{
 "cells": [
  {
   "cell_type": "markdown",
   "metadata": {},
   "source": [
    "# Neiss Datasets"
   ]
  },
  {
   "cell_type": "code",
   "execution_count": 91,
   "metadata": {},
   "outputs": [],
   "source": [
    "import pandas as pd\n",
    "import numpy as np\n",
    "pd.set_option('display.max_columns', None)"
   ]
  },
  {
   "cell_type": "code",
   "execution_count": 92,
   "metadata": {},
   "outputs": [],
   "source": [
    "import seaborn as sns\n",
    "import matplotlib.pyplot as plt"
   ]
  },
  {
   "cell_type": "code",
   "execution_count": 4,
   "metadata": {},
   "outputs": [
    {
     "name": "stdout",
     "output_type": "stream",
     "text": [
      "./data/neiss2014.tsv...\n",
      "./data/neiss2015.tsv...\n",
      "./data/neiss2016.tsv...\n",
      "./data/neiss2017.tsv...\n",
      "Exception Caught\n",
      "./data/neiss2017.tsv...\n"
     ]
    },
    {
     "name": "stderr",
     "output_type": "stream",
     "text": [
      "/var/folders/sz/hbk1460n5wdbf8wpmtyd24sc0000gn/T/ipykernel_98744/927198845.py:10: DtypeWarning: Columns (0) have mixed types. Specify dtype option on import or set low_memory=False.\n",
      "  print(len(pd.read_csv(path, sep='\\t', encoding='ISO-8859-1')))\n"
     ]
    },
    {
     "name": "stdout",
     "output_type": "stream",
     "text": [
      "386907\n"
     ]
    },
    {
     "name": "stderr",
     "output_type": "stream",
     "text": [
      "/var/folders/sz/hbk1460n5wdbf8wpmtyd24sc0000gn/T/ipykernel_98744/927198845.py:11: DtypeWarning: Columns (0) have mixed types. Specify dtype option on import or set low_memory=False.\n",
      "  df_list.append(pd.read_csv(path, sep='\\t', encoding='ISO-8859-1'))\n"
     ]
    },
    {
     "name": "stdout",
     "output_type": "stream",
     "text": [
      "./data/neiss2018.tsv...\n"
     ]
    },
    {
     "name": "stderr",
     "output_type": "stream",
     "text": [
      "/var/folders/sz/hbk1460n5wdbf8wpmtyd24sc0000gn/T/ipykernel_98744/927198845.py:6: DtypeWarning: Columns (0) have mixed types. Specify dtype option on import or set low_memory=False.\n",
      "  df_list.append(pd.read_csv(path, sep='\\t'))\n"
     ]
    },
    {
     "name": "stdout",
     "output_type": "stream",
     "text": [
      "./data/neiss2019.tsv...\n"
     ]
    },
    {
     "name": "stderr",
     "output_type": "stream",
     "text": [
      "/var/folders/sz/hbk1460n5wdbf8wpmtyd24sc0000gn/T/ipykernel_98744/927198845.py:6: DtypeWarning: Columns (0) have mixed types. Specify dtype option on import or set low_memory=False.\n",
      "  df_list.append(pd.read_csv(path, sep='\\t'))\n"
     ]
    },
    {
     "name": "stdout",
     "output_type": "stream",
     "text": [
      "./data/neiss2020.tsv...\n",
      "./data/neiss2021.tsv...\n"
     ]
    },
    {
     "name": "stderr",
     "output_type": "stream",
     "text": [
      "/var/folders/sz/hbk1460n5wdbf8wpmtyd24sc0000gn/T/ipykernel_98744/927198845.py:6: DtypeWarning: Columns (0) have mixed types. Specify dtype option on import or set low_memory=False.\n",
      "  df_list.append(pd.read_csv(path, sep='\\t'))\n"
     ]
    },
    {
     "name": "stdout",
     "output_type": "stream",
     "text": [
      "./data/neiss2022.tsv...\n",
      "./data/neiss2023.tsv...\n"
     ]
    },
    {
     "name": "stderr",
     "output_type": "stream",
     "text": [
      "/var/folders/sz/hbk1460n5wdbf8wpmtyd24sc0000gn/T/ipykernel_98744/927198845.py:6: DtypeWarning: Columns (0) have mixed types. Specify dtype option on import or set low_memory=False.\n",
      "  df_list.append(pd.read_csv(path, sep='\\t'))\n"
     ]
    }
   ],
   "source": [
    "df_list = []\n",
    "for year in range(2014, 2024):\n",
    "    path = f'./data/neiss{year}.tsv'\n",
    "    print(path, '...', sep='')\n",
    "    try:\n",
    "        df_list.append(pd.read_csv(path, sep='\\t'))\n",
    "    except UnicodeDecodeError:\n",
    "        print('Exception Caught')\n",
    "        print(path, '...', sep='')\n",
    "        print(len(pd.read_csv(path, sep='\\t', encoding='ISO-8859-1')))\n",
    "        df_list.append(pd.read_csv(path, sep='\\t', encoding='ISO-8859-1'))\n",
    "df = pd.concat(df_list, axis=0, ignore_index=True)"
   ]
  },
  {
   "cell_type": "code",
   "execution_count": 5,
   "metadata": {},
   "outputs": [],
   "source": [
    "# Drop records with missing Narrative_1 data\n",
    "df.drop(df[df['Narrative_1'].isnull()].index, axis=0, inplace=True)"
   ]
  },
  {
   "cell_type": "code",
   "execution_count": 6,
   "metadata": {},
   "outputs": [
    {
     "name": "stdout",
     "output_type": "stream",
     "text": [
      "<class 'pandas.core.frame.DataFrame'>\n",
      "Index: 3520522 entries, 0 to 3520529\n",
      "Data columns (total 25 columns):\n",
      " #   Column             Dtype  \n",
      "---  ------             -----  \n",
      " 0   CPSC_Case_Number   object \n",
      " 1   Treatment_Date     object \n",
      " 2   Age                int64  \n",
      " 3   Sex                float64\n",
      " 4   Race               float64\n",
      " 5   Other_Race         object \n",
      " 6   Hispanic           float64\n",
      " 7   Body_Part          float64\n",
      " 8   Diagnosis          float64\n",
      " 9   Other_Diagnosis    object \n",
      " 10  Body_Part_2        float64\n",
      " 11  Diagnosis_2        float64\n",
      " 12  Other_Diagnosis_2  object \n",
      " 13  Disposition        float64\n",
      " 14  Location           float64\n",
      " 15  Fire_Involvement   float64\n",
      " 16  Product_1          float64\n",
      " 17  Product_2          float64\n",
      " 18  Product_3          float64\n",
      " 19  Alcohol            float64\n",
      " 20  Drug               float64\n",
      " 21  Narrative_1        object \n",
      " 22  Stratum            object \n",
      " 23  PSU                float64\n",
      " 24  Weight             float64\n",
      "dtypes: float64(17), int64(1), object(7)\n",
      "memory usage: 698.3+ MB\n"
     ]
    }
   ],
   "source": [
    "df.info()"
   ]
  },
  {
   "cell_type": "code",
   "execution_count": 7,
   "metadata": {},
   "outputs": [
    {
     "name": "stderr",
     "output_type": "stream",
     "text": [
      "/opt/anaconda3/envs/hf_env/lib/python3.11/site-packages/tqdm/auto.py:21: TqdmWarning: IProgress not found. Please update jupyter and ipywidgets. See https://ipywidgets.readthedocs.io/en/stable/user_install.html\n",
      "  from .autonotebook import tqdm as notebook_tqdm\n"
     ]
    }
   ],
   "source": [
    "from transformers import BertTokenizer\n",
    "from datasets import Dataset"
   ]
  },
  {
   "cell_type": "markdown",
   "metadata": {},
   "source": [
    "# Fine Tuning Distil-BERT"
   ]
  },
  {
   "cell_type": "code",
   "execution_count": 93,
   "metadata": {},
   "outputs": [],
   "source": [
    "from datasets import Dataset, ClassLabel, Features, Value\n",
    "from transformers import AutoTokenizer, AutoModelForSequenceClassification, TrainingArguments, Trainer, DataCollatorWithPadding\n",
    "from evaluate import load\n",
    "import torch.nn.functional as F\n",
    "\n",
    "from peft import LoraConfig, get_peft_model\n",
    "\n",
    "from sklearn.metrics import confusion_matrix, classification_report, ConfusionMatrixDisplay"
   ]
  },
  {
   "cell_type": "markdown",
   "metadata": {},
   "source": [
    "# Plan to Strengthen the Model\n",
    "> The current model was trained on an initial set of 237 human-labeled samples. It achieved an overall accuracy of 80.0%, with a precision of 83.3% on samples labeled as pedestrian injuries. The following steps will be implemented to further strengthen and refine the model.\n",
    "\n",
    "1. Combine labeled data: Merge the original 237 labeled samples with the 100 newly labeled ones, resulting in a training/validation set of 337 examples.\n",
    "1. Create a holdout evaluation set by stratifying 150 samples:\n",
    "    * 50 containing the word or some variation of the word “pedestrian”\n",
    "    * 50 containing “struck by” or “hit by” \n",
    "    * 50 containing both\n",
    "\n",
    "    These samples will not be among the 337 samples used for training and will be manually labeled and reserved exclusively for final evaluation.\n",
    "3. Train the model: Perform a new train/validation split and fine-tune the model accordingly.\n",
    "4. Generate predictions using softmax probabilities instead of argmax. Then proceed with one of two approaches:\n",
    "* **4.1. Keep existing model and tune threshold:** \n",
    "    * Classify a narrative as a pedestrian injury only if the model assigns a probability ≥ 80% (or another calibrated value). Evaluate this model on the holdout set to measure precision and overall performance.\n",
    "* **4.2. Add additional data based on softmax probablities:**\n",
    "    * Auto-label: Add all of the data where the model was ≥ 90% and ≤ 10% sure to expand the dataset.\n",
    "    * Manual label: Add ~50 borderline predictions (45–55% confidence) to refine the model near the decision boundary.\n",
    "    * Retrain the model with the expanded dataset and evaluate on the same holdout set.\n",
    "5. Compare results from steps 4.1 and 4.2 and select the version that delivers the best precision and overall performance as the final model."
   ]
  },
  {
   "cell_type": "markdown",
   "metadata": {},
   "source": [
    "## 1. Combine labeled data to make the train/validation set"
   ]
  },
  {
   "cell_type": "code",
   "execution_count": 16,
   "metadata": {},
   "outputs": [],
   "source": [
    "labeled_sample = pd.read_csv('ped_accident_labels.csv')\n",
    "performance_df = pd.read_csv('performance_df.csv')"
   ]
  },
  {
   "cell_type": "code",
   "execution_count": 17,
   "metadata": {},
   "outputs": [],
   "source": [
    "# Combining the two, only keeping the narrative and the human label\n",
    "train_validation = pd.concat(\n",
    "    [labeled_sample[['Narrative_1', 'Pedestrian Label']].rename(columns={'Pedestrian Label': 'Human Label'}),\n",
    "     performance_df[['Narrative_1', 'Human Label']]],\n",
    "    axis=0)"
   ]
  },
  {
   "cell_type": "markdown",
   "metadata": {},
   "source": [
    "## 2. Create Holdout Set"
   ]
  },
  {
   "cell_type": "code",
   "execution_count": 18,
   "metadata": {},
   "outputs": [
    {
     "data": {
      "text/plain": [
       "471460"
      ]
     },
     "execution_count": 18,
     "metadata": {},
     "output_type": "execute_result"
    }
   ],
   "source": [
    "# Step 1: Filter narratives that contain relevant keywords related to pedestrian activity or motor vehicle involvement\n",
    "search_words = [\n",
    "    \"walking\", \"walk\", \"jogging\", \"jog\", \"running\", \"run\", \"on foot\", \"bystander\",\n",
    "    \"standing\", \"biking\", \"bike\", \"roller skating\", \"roller skates\", \"skateboarding\",\n",
    "    \"skateboard\", \"scootering\", \"scooter\", \"pedestr\", \"pedst\", \"struck by\", \"hit by\"\n",
    "]\n",
    "\n",
    "filtered_df = df[df['Narrative_1'].str.contains('|'.join(search_words), case=False, na=False)]\n",
    "\n",
    "# ~470,000 samples contain at least one keyword (~6.25 hours to run locally)\n",
    "len(filtered_df)"
   ]
  },
  {
   "cell_type": "code",
   "execution_count": 19,
   "metadata": {},
   "outputs": [
    {
     "name": "stdout",
     "output_type": "stream",
     "text": [
      "96128\n"
     ]
    }
   ],
   "source": [
    "# Step 2: Filter further by location codes of interest (e.g., street or highway)\n",
    "filtered_df = filtered_df[filtered_df['Location'].isin([4, 5])]\n",
    "\n",
    "# ~96,000 samples remain (~76.5 minutes to run locally)\n",
    "print(len(filtered_df))"
   ]
  },
  {
   "cell_type": "code",
   "execution_count": 20,
   "metadata": {},
   "outputs": [
    {
     "name": "stdout",
     "output_type": "stream",
     "text": [
      "19489\n"
     ]
    }
   ],
   "source": [
    "# Step 3: Focus on narratives that explicitly mention \"pedestrian\", \"struck by\", or \"hit by\"\n",
    "filtered_df = filtered_df[filtered_df['Narrative_1'].str.contains('|'.join([\"pedestr\", \"pedst\", \"struck by\", \"hit by\"]), case=False, na=False)]\n",
    "\n",
    "# ~20,000 high-priority samples (~15 minutes to run locally)\n",
    "print(len(filtered_df))"
   ]
  },
  {
   "cell_type": "markdown",
   "metadata": {},
   "source": [
    "This subset of ~20,000 samples contains location-relevant narratives with keywords most likely to reflect pedestrian injuries involving motor vehicles. This will serve as the primary dataset for local experimentation. In future iterations, model weights may be exported and applied at scale on larger datasets using cloud resources."
   ]
  },
  {
   "cell_type": "code",
   "execution_count": 21,
   "metadata": {},
   "outputs": [
    {
     "data": {
      "text/plain": [
       "19226"
      ]
     },
     "execution_count": 21,
     "metadata": {},
     "output_type": "execute_result"
    }
   ],
   "source": [
    "# Excluding data that out model will be trained on\n",
    "filtered_df = filtered_df[~filtered_df['Narrative_1'].isin(train_validation['Narrative_1'])]\n",
    "\n",
    "# There are 19,226 samples that are not in our train/validation set\n",
    "# NOTE: Some data in our train_validation set are not in our original filtered_df since the location codes outside of 4 and 5 were not excluded initially\n",
    "len(filtered_df)"
   ]
  },
  {
   "cell_type": "code",
   "execution_count": 22,
   "metadata": {},
   "outputs": [],
   "source": [
    "# Mask that contains all of the narratives containing pedestrian\n",
    "pedestrian_mask = filtered_df['Narrative_1'].str.contains('pedst|pedestr', case=False, na=False)\n",
    "# Mask containing all of the narratives containing struck by/hit by\n",
    "struck_hit_mask = filtered_df['Narrative_1'].str.contains('struck by|hit by', case=False, na=False)\n",
    "\n",
    "# df containing 50 \"pedestrian\" samples that don't contain \"struck/hit\" by\n",
    "group_a = filtered_df[pedestrian_mask & ~struck_hit_mask].sample(50, random_state=42)\n",
    "\n",
    "# df containing 50 \"struck/hit by\" samples that dont contain \"pedestrian\"\n",
    "group_b = filtered_df[struck_hit_mask & ~pedestrian_mask].sample(50, random_state=42)\n",
    "\n",
    "# df containing 50 samples where both \"pedestrian\" and \"struck/hit by\" are present in the narrative\n",
    "group_c = filtered_df[struck_hit_mask & pedestrian_mask].sample(50, random_state=42)\n",
    "\n",
    "# Creating flags to test the models performance among each group\n",
    "group_a['group'] = 'group_a'\n",
    "group_b['group'] = 'group_b'\n",
    "group_c['group'] = 'group_c'\n",
    "\n",
    "# Holdout set containing all three groups\n",
    "holdout = pd.concat([group_a, group_b, group_c], axis=0)"
   ]
  },
  {
   "cell_type": "code",
   "execution_count": 23,
   "metadata": {},
   "outputs": [
    {
     "data": {
      "text/html": [
       "<div>\n",
       "<style scoped>\n",
       "    .dataframe tbody tr th:only-of-type {\n",
       "        vertical-align: middle;\n",
       "    }\n",
       "\n",
       "    .dataframe tbody tr th {\n",
       "        vertical-align: top;\n",
       "    }\n",
       "\n",
       "    .dataframe thead th {\n",
       "        text-align: right;\n",
       "    }\n",
       "</style>\n",
       "<table border=\"1\" class=\"dataframe\">\n",
       "  <thead>\n",
       "    <tr style=\"text-align: right;\">\n",
       "      <th></th>\n",
       "      <th>CPSC_Case_Number</th>\n",
       "      <th>Treatment_Date</th>\n",
       "      <th>Age</th>\n",
       "      <th>Sex</th>\n",
       "      <th>Race</th>\n",
       "      <th>Other_Race</th>\n",
       "      <th>Hispanic</th>\n",
       "      <th>Body_Part</th>\n",
       "      <th>Diagnosis</th>\n",
       "      <th>Other_Diagnosis</th>\n",
       "      <th>Body_Part_2</th>\n",
       "      <th>Diagnosis_2</th>\n",
       "      <th>Other_Diagnosis_2</th>\n",
       "      <th>Disposition</th>\n",
       "      <th>Location</th>\n",
       "      <th>Fire_Involvement</th>\n",
       "      <th>Product_1</th>\n",
       "      <th>Product_2</th>\n",
       "      <th>Product_3</th>\n",
       "      <th>Alcohol</th>\n",
       "      <th>Drug</th>\n",
       "      <th>Narrative_1</th>\n",
       "      <th>Stratum</th>\n",
       "      <th>PSU</th>\n",
       "      <th>Weight</th>\n",
       "      <th>group</th>\n",
       "    </tr>\n",
       "  </thead>\n",
       "  <tbody>\n",
       "    <tr>\n",
       "      <th>1373638</th>\n",
       "      <td>170957638</td>\n",
       "      <td>09/24/2017</td>\n",
       "      <td>52</td>\n",
       "      <td>2.0</td>\n",
       "      <td>0.0</td>\n",
       "      <td>NaN</td>\n",
       "      <td>NaN</td>\n",
       "      <td>75.0</td>\n",
       "      <td>62.0</td>\n",
       "      <td>NaN</td>\n",
       "      <td>NaN</td>\n",
       "      <td>NaN</td>\n",
       "      <td>NaN</td>\n",
       "      <td>1.0</td>\n",
       "      <td>4.0</td>\n",
       "      <td>0.0</td>\n",
       "      <td>5040.0</td>\n",
       "      <td>0.0</td>\n",
       "      <td>0.0</td>\n",
       "      <td>NaN</td>\n",
       "      <td>NaN</td>\n",
       "      <td>52YF HELM'D BICYCLIST CRASHED INTO PEDESTRIAN&amp;...</td>\n",
       "      <td>V</td>\n",
       "      <td>21.0</td>\n",
       "      <td>16.1828</td>\n",
       "      <td>group_a</td>\n",
       "    </tr>\n",
       "    <tr>\n",
       "      <th>2870136</th>\n",
       "      <td>220159454</td>\n",
       "      <td>01/25/2022</td>\n",
       "      <td>24</td>\n",
       "      <td>2.0</td>\n",
       "      <td>4.0</td>\n",
       "      <td>NaN</td>\n",
       "      <td>2.0</td>\n",
       "      <td>37.0</td>\n",
       "      <td>64.0</td>\n",
       "      <td>NaN</td>\n",
       "      <td>NaN</td>\n",
       "      <td>NaN</td>\n",
       "      <td>NaN</td>\n",
       "      <td>1.0</td>\n",
       "      <td>4.0</td>\n",
       "      <td>0.0</td>\n",
       "      <td>5040.0</td>\n",
       "      <td>0.0</td>\n",
       "      <td>0.0</td>\n",
       "      <td>0.0</td>\n",
       "      <td>0.0</td>\n",
       "      <td>24 YOF IN MVA , PEDESTRIAN STRUCK AND INJ LEG ...</td>\n",
       "      <td>V</td>\n",
       "      <td>38.0</td>\n",
       "      <td>17.2223</td>\n",
       "      <td>group_a</td>\n",
       "    </tr>\n",
       "    <tr>\n",
       "      <th>3007698</th>\n",
       "      <td>220705908</td>\n",
       "      <td>06/09/2022</td>\n",
       "      <td>12</td>\n",
       "      <td>1.0</td>\n",
       "      <td>0.0</td>\n",
       "      <td>NaN</td>\n",
       "      <td>0.0</td>\n",
       "      <td>75.0</td>\n",
       "      <td>52.0</td>\n",
       "      <td>NaN</td>\n",
       "      <td>NaN</td>\n",
       "      <td>NaN</td>\n",
       "      <td>NaN</td>\n",
       "      <td>4.0</td>\n",
       "      <td>4.0</td>\n",
       "      <td>0.0</td>\n",
       "      <td>5040.0</td>\n",
       "      <td>0.0</td>\n",
       "      <td>0.0</td>\n",
       "      <td>0.0</td>\n",
       "      <td>0.0</td>\n",
       "      <td>12YOM BROUGHT IN BY AMBULANCE AFTER A PEDESTRI...</td>\n",
       "      <td>C</td>\n",
       "      <td>37.0</td>\n",
       "      <td>6.6676</td>\n",
       "      <td>group_a</td>\n",
       "    </tr>\n",
       "    <tr>\n",
       "      <th>703697</th>\n",
       "      <td>151238381</td>\n",
       "      <td>11/18/2015</td>\n",
       "      <td>40</td>\n",
       "      <td>1.0</td>\n",
       "      <td>2.0</td>\n",
       "      <td>NaN</td>\n",
       "      <td>NaN</td>\n",
       "      <td>36.0</td>\n",
       "      <td>57.0</td>\n",
       "      <td>NaN</td>\n",
       "      <td>NaN</td>\n",
       "      <td>NaN</td>\n",
       "      <td>NaN</td>\n",
       "      <td>1.0</td>\n",
       "      <td>4.0</td>\n",
       "      <td>0.0</td>\n",
       "      <td>5040.0</td>\n",
       "      <td>0.0</td>\n",
       "      <td>0.0</td>\n",
       "      <td>NaN</td>\n",
       "      <td>NaN</td>\n",
       "      <td>40 YOM DX DISPLACED FX OF LT TIBIAL SPINE - S/...</td>\n",
       "      <td>V</td>\n",
       "      <td>57.0</td>\n",
       "      <td>16.5650</td>\n",
       "      <td>group_a</td>\n",
       "    </tr>\n",
       "    <tr>\n",
       "      <th>849328</th>\n",
       "      <td>160538697</td>\n",
       "      <td>05/12/2016</td>\n",
       "      <td>25</td>\n",
       "      <td>2.0</td>\n",
       "      <td>2.0</td>\n",
       "      <td>NaN</td>\n",
       "      <td>NaN</td>\n",
       "      <td>81.0</td>\n",
       "      <td>71.0</td>\n",
       "      <td>LEG/MOUTH PAIN</td>\n",
       "      <td>NaN</td>\n",
       "      <td>NaN</td>\n",
       "      <td>NaN</td>\n",
       "      <td>1.0</td>\n",
       "      <td>4.0</td>\n",
       "      <td>0.0</td>\n",
       "      <td>5040.0</td>\n",
       "      <td>0.0</td>\n",
       "      <td>0.0</td>\n",
       "      <td>NaN</td>\n",
       "      <td>NaN</td>\n",
       "      <td>25 YOF DX LEG/MOUTH PAIN - S/P PT PEDESTRIAN S...</td>\n",
       "      <td>V</td>\n",
       "      <td>57.0</td>\n",
       "      <td>14.6504</td>\n",
       "      <td>group_a</td>\n",
       "    </tr>\n",
       "  </tbody>\n",
       "</table>\n",
       "</div>"
      ],
      "text/plain": [
       "        CPSC_Case_Number Treatment_Date  Age  Sex  Race Other_Race  Hispanic  \\\n",
       "1373638        170957638     09/24/2017   52  2.0   0.0        NaN       NaN   \n",
       "2870136        220159454     01/25/2022   24  2.0   4.0        NaN       2.0   \n",
       "3007698        220705908     06/09/2022   12  1.0   0.0        NaN       0.0   \n",
       "703697         151238381     11/18/2015   40  1.0   2.0        NaN       NaN   \n",
       "849328         160538697     05/12/2016   25  2.0   2.0        NaN       NaN   \n",
       "\n",
       "         Body_Part  Diagnosis Other_Diagnosis  Body_Part_2  Diagnosis_2  \\\n",
       "1373638       75.0       62.0             NaN          NaN          NaN   \n",
       "2870136       37.0       64.0             NaN          NaN          NaN   \n",
       "3007698       75.0       52.0             NaN          NaN          NaN   \n",
       "703697        36.0       57.0             NaN          NaN          NaN   \n",
       "849328        81.0       71.0  LEG/MOUTH PAIN          NaN          NaN   \n",
       "\n",
       "        Other_Diagnosis_2  Disposition  Location  Fire_Involvement  Product_1  \\\n",
       "1373638               NaN          1.0       4.0               0.0     5040.0   \n",
       "2870136               NaN          1.0       4.0               0.0     5040.0   \n",
       "3007698               NaN          4.0       4.0               0.0     5040.0   \n",
       "703697                NaN          1.0       4.0               0.0     5040.0   \n",
       "849328                NaN          1.0       4.0               0.0     5040.0   \n",
       "\n",
       "         Product_2  Product_3  Alcohol  Drug  \\\n",
       "1373638        0.0        0.0      NaN   NaN   \n",
       "2870136        0.0        0.0      0.0   0.0   \n",
       "3007698        0.0        0.0      0.0   0.0   \n",
       "703697         0.0        0.0      NaN   NaN   \n",
       "849328         0.0        0.0      NaN   NaN   \n",
       "\n",
       "                                               Narrative_1 Stratum   PSU  \\\n",
       "1373638  52YF HELM'D BICYCLIST CRASHED INTO PEDESTRIAN&...       V  21.0   \n",
       "2870136  24 YOF IN MVA , PEDESTRIAN STRUCK AND INJ LEG ...       V  38.0   \n",
       "3007698  12YOM BROUGHT IN BY AMBULANCE AFTER A PEDESTRI...       C  37.0   \n",
       "703697   40 YOM DX DISPLACED FX OF LT TIBIAL SPINE - S/...       V  57.0   \n",
       "849328   25 YOF DX LEG/MOUTH PAIN - S/P PT PEDESTRIAN S...       V  57.0   \n",
       "\n",
       "          Weight    group  \n",
       "1373638  16.1828  group_a  \n",
       "2870136  17.2223  group_a  \n",
       "3007698   6.6676  group_a  \n",
       "703697   16.5650  group_a  \n",
       "849328   14.6504  group_a  "
      ]
     },
     "execution_count": 23,
     "metadata": {},
     "output_type": "execute_result"
    }
   ],
   "source": [
    "holdout.head()"
   ]
  },
  {
   "cell_type": "markdown",
   "metadata": {},
   "source": [
    "## 3. Train the model"
   ]
  },
  {
   "cell_type": "code",
   "execution_count": 24,
   "metadata": {},
   "outputs": [],
   "source": [
    "features = Features({\n",
    "    'text': Value('string'),\n",
    "    'labels': ClassLabel(names=[\"Not Pedestrian\", \"Pedestrian\"])\n",
    "})\n",
    "\n",
    "dataset = Dataset.from_pandas(\n",
    "    df=train_validation.rename(columns={'Narrative_1':'text', 'Human Label': 'labels'}).reset_index(drop=True),\n",
    "    features=features\n",
    ")\n",
    "\n",
    "dataset = dataset.train_test_split(test_size=0.2, seed=42, stratify_by_column='labels')"
   ]
  },
  {
   "cell_type": "code",
   "execution_count": 25,
   "metadata": {},
   "outputs": [
    {
     "data": {
      "text/plain": [
       "DatasetDict({\n",
       "    train: Dataset({\n",
       "        features: ['text', 'labels'],\n",
       "        num_rows: 269\n",
       "    })\n",
       "    test: Dataset({\n",
       "        features: ['text', 'labels'],\n",
       "        num_rows: 68\n",
       "    })\n",
       "})"
      ]
     },
     "execution_count": 25,
     "metadata": {},
     "output_type": "execute_result"
    }
   ],
   "source": [
    "dataset"
   ]
  },
  {
   "cell_type": "code",
   "execution_count": 26,
   "metadata": {},
   "outputs": [
    {
     "name": "stderr",
     "output_type": "stream",
     "text": [
      "Map: 100%|██████████| 269/269 [00:00<00:00, 8052.44 examples/s]\n",
      "Map: 100%|██████████| 68/68 [00:00<00:00, 6869.95 examples/s]\n"
     ]
    }
   ],
   "source": [
    "# Initializing tokenizer\n",
    "tokenizer = AutoTokenizer.from_pretrained(\"distilbert-base-uncased\")\n",
    "\n",
    "# defining the tokenization function\n",
    "def tokenize(sample):\n",
    "    return tokenizer(\n",
    "        sample['text'],\n",
    "        # padding='max_length',\n",
    "        truncation=True\n",
    "    )\n",
    "    \n",
    "results = dataset.map(tokenize, batched=True)"
   ]
  },
  {
   "cell_type": "code",
   "execution_count": 27,
   "metadata": {},
   "outputs": [
    {
     "name": "stderr",
     "output_type": "stream",
     "text": [
      "Some weights of DistilBertForSequenceClassification were not initialized from the model checkpoint at distilbert-base-uncased and are newly initialized: ['classifier.bias', 'classifier.weight', 'pre_classifier.bias', 'pre_classifier.weight']\n",
      "You should probably TRAIN this model on a down-stream task to be able to use it for predictions and inference.\n"
     ]
    }
   ],
   "source": [
    "id2label = {0: \"Not Pedestrian\", 1: \"Pedestrian\"}\n",
    "label2id = {\"Not Pedestrian\":0, \"Pedestrian\": 1}\n",
    "\n",
    "model = AutoModelForSequenceClassification.from_pretrained(\n",
    "    \"distilbert-base-uncased\",\n",
    "    num_labels = 2,\n",
    "    id2label = id2label,\n",
    "    label2id = label2id\n",
    ")"
   ]
  },
  {
   "cell_type": "code",
   "execution_count": 28,
   "metadata": {},
   "outputs": [
    {
     "name": "stdout",
     "output_type": "stream",
     "text": [
      "trainable params: 1,181,954 || all params: 68,136,964 || trainable%: 1.7347\n"
     ]
    }
   ],
   "source": [
    "peft_config = LoraConfig(\n",
    "    task_type='SEQ_CLS', # Defining the classification type to be Sequence Classification\n",
    "    r=8, # Lora attention dimension (intrinsic rank of the low-rank matricies)\n",
    "    lora_alpha=32, # Alpha Parameter for Lora scaling (like the learning rate)\n",
    "    lora_dropout=0.1, # The dropout probability for Lora layers\n",
    "    target_modules=['q_lin', 'k_lin', 'v_lin', 'ffn.lin1', 'ffn.lin2'] # We will start by allowing the query, key, and value linear layers to be modified by the model\n",
    ")\n",
    "\n",
    "model = get_peft_model(model, peft_config)\n",
    "model.print_trainable_parameters()"
   ]
  },
  {
   "cell_type": "code",
   "execution_count": 29,
   "metadata": {},
   "outputs": [],
   "source": [
    "# Load evaluation metrics\n",
    "accuracy = load(\"accuracy\")\n",
    "precision = load(\"precision\")\n",
    "recall = load(\"recall\")\n",
    "f1_score = load(\"f1\")\n",
    "\n",
    "# Define a metric function for evaluation\n",
    "def compute_metrics(p):\n",
    "    pred = np.argmax(p.predictions, axis=1)\n",
    "    labels = p.label_ids\n",
    "\n",
    "    return {\n",
    "        \"accuracy\": accuracy.compute(predictions=pred, references=labels)['accuracy'],\n",
    "        \"precision\": precision.compute(predictions=pred, references=labels, average='binary')['precision'],\n",
    "        \"recall\": recall.compute(predictions=pred, references=labels, average='binary')['recall'],\n",
    "        \"f1\": f1_score.compute(predictions=pred, references=labels, average='binary')['f1'],\n",
    "    }"
   ]
  },
  {
   "cell_type": "code",
   "execution_count": 30,
   "metadata": {},
   "outputs": [],
   "source": [
    "data_collator = DataCollatorWithPadding(tokenizer=tokenizer)\n",
    "\n",
    "# Hyperparameters\n",
    "lr = 0.00005 # Size of optimization step\n",
    "batch_size = 8 # number of examples processed per optimization step\n",
    "num_epochs = 10 # number of times the model runs through training data\n",
    "weight_decay = 0.1\n",
    "\n",
    "# Defining the training arguments\n",
    "training_args = TrainingArguments(\n",
    "    output_dir=\"./results\",\n",
    "    learning_rate=lr,\n",
    "    per_device_train_batch_size=batch_size,\n",
    "    per_device_eval_batch_size=batch_size,\n",
    "    num_train_epochs=num_epochs,\n",
    "    weight_decay=weight_decay,\n",
    "    eval_strategy=\"epoch\",\n",
    "    save_strategy=\"epoch\",\n",
    "    load_best_model_at_end=True, \n",
    "    save_total_limit=4,\n",
    "    report_to='tensorboard',\n",
    "    do_eval=True, \n",
    "    logging_strategy='epoch'\n",
    ")"
   ]
  },
  {
   "cell_type": "code",
   "execution_count": 31,
   "metadata": {},
   "outputs": [
    {
     "name": "stderr",
     "output_type": "stream",
     "text": [
      "/var/folders/sz/hbk1460n5wdbf8wpmtyd24sc0000gn/T/ipykernel_98744/2352482910.py:1: FutureWarning: `tokenizer` is deprecated and will be removed in version 5.0.0 for `Trainer.__init__`. Use `processing_class` instead.\n",
      "  trainer = Trainer(\n",
      "No label_names provided for model class `PeftModelForSequenceClassification`. Since `PeftModel` hides base models input arguments, if label_names is not given, label_names can't be set automatically within `Trainer`. Note that empty label_names list will be used instead.\n"
     ]
    }
   ],
   "source": [
    "trainer = Trainer(\n",
    "    model=model, # our peft model\n",
    "    args=training_args, # hyperparameters\n",
    "    train_dataset=results['train'], # training data\n",
    "    eval_dataset=results['test'], # validation data\n",
    "    tokenizer=tokenizer, # The narratives from the training and testing sets are already pre-tokenized. Passing the tokenizer here is primarily used for decoding predictions\n",
    "    data_collator=data_collator,\n",
    "    compute_metrics=compute_metrics # Runs on HuggingFace's EvalPrediction object (see compute metrics notes for how this works)\n",
    ")"
   ]
  },
  {
   "cell_type": "code",
   "execution_count": 32,
   "metadata": {},
   "outputs": [
    {
     "data": {
      "text/html": [
       "\n",
       "    <div>\n",
       "      \n",
       "      <progress value='340' max='340' style='width:300px; height:20px; vertical-align: middle;'></progress>\n",
       "      [340/340 02:16, Epoch 10/10]\n",
       "    </div>\n",
       "    <table border=\"1\" class=\"dataframe\">\n",
       "  <thead>\n",
       " <tr style=\"text-align: left;\">\n",
       "      <th>Epoch</th>\n",
       "      <th>Training Loss</th>\n",
       "      <th>Validation Loss</th>\n",
       "      <th>Accuracy</th>\n",
       "      <th>Precision</th>\n",
       "      <th>Recall</th>\n",
       "      <th>F1</th>\n",
       "    </tr>\n",
       "  </thead>\n",
       "  <tbody>\n",
       "    <tr>\n",
       "      <td>1</td>\n",
       "      <td>0.695300</td>\n",
       "      <td>0.677910</td>\n",
       "      <td>0.544118</td>\n",
       "      <td>0.544118</td>\n",
       "      <td>1.000000</td>\n",
       "      <td>0.704762</td>\n",
       "    </tr>\n",
       "    <tr>\n",
       "      <td>2</td>\n",
       "      <td>0.680600</td>\n",
       "      <td>0.657357</td>\n",
       "      <td>0.573529</td>\n",
       "      <td>0.560606</td>\n",
       "      <td>1.000000</td>\n",
       "      <td>0.718447</td>\n",
       "    </tr>\n",
       "    <tr>\n",
       "      <td>3</td>\n",
       "      <td>0.651000</td>\n",
       "      <td>0.599204</td>\n",
       "      <td>0.750000</td>\n",
       "      <td>0.700000</td>\n",
       "      <td>0.945946</td>\n",
       "      <td>0.804598</td>\n",
       "    </tr>\n",
       "    <tr>\n",
       "      <td>4</td>\n",
       "      <td>0.594600</td>\n",
       "      <td>0.503210</td>\n",
       "      <td>0.808824</td>\n",
       "      <td>0.785714</td>\n",
       "      <td>0.891892</td>\n",
       "      <td>0.835443</td>\n",
       "    </tr>\n",
       "    <tr>\n",
       "      <td>5</td>\n",
       "      <td>0.504200</td>\n",
       "      <td>0.454362</td>\n",
       "      <td>0.764706</td>\n",
       "      <td>0.733333</td>\n",
       "      <td>0.891892</td>\n",
       "      <td>0.804878</td>\n",
       "    </tr>\n",
       "    <tr>\n",
       "      <td>6</td>\n",
       "      <td>0.449400</td>\n",
       "      <td>0.424157</td>\n",
       "      <td>0.808824</td>\n",
       "      <td>0.785714</td>\n",
       "      <td>0.891892</td>\n",
       "      <td>0.835443</td>\n",
       "    </tr>\n",
       "    <tr>\n",
       "      <td>7</td>\n",
       "      <td>0.437200</td>\n",
       "      <td>0.402123</td>\n",
       "      <td>0.823529</td>\n",
       "      <td>0.804878</td>\n",
       "      <td>0.891892</td>\n",
       "      <td>0.846154</td>\n",
       "    </tr>\n",
       "    <tr>\n",
       "      <td>8</td>\n",
       "      <td>0.406600</td>\n",
       "      <td>0.407257</td>\n",
       "      <td>0.794118</td>\n",
       "      <td>0.767442</td>\n",
       "      <td>0.891892</td>\n",
       "      <td>0.825000</td>\n",
       "    </tr>\n",
       "    <tr>\n",
       "      <td>9</td>\n",
       "      <td>0.380100</td>\n",
       "      <td>0.416829</td>\n",
       "      <td>0.808824</td>\n",
       "      <td>0.772727</td>\n",
       "      <td>0.918919</td>\n",
       "      <td>0.839506</td>\n",
       "    </tr>\n",
       "    <tr>\n",
       "      <td>10</td>\n",
       "      <td>0.361300</td>\n",
       "      <td>0.414212</td>\n",
       "      <td>0.808824</td>\n",
       "      <td>0.772727</td>\n",
       "      <td>0.918919</td>\n",
       "      <td>0.839506</td>\n",
       "    </tr>\n",
       "  </tbody>\n",
       "</table><p>"
      ],
      "text/plain": [
       "<IPython.core.display.HTML object>"
      ]
     },
     "metadata": {},
     "output_type": "display_data"
    },
    {
     "data": {
      "text/plain": [
       "TrainOutput(global_step=340, training_loss=0.5160315429463106, metrics={'train_runtime': 140.9162, 'train_samples_per_second': 19.089, 'train_steps_per_second': 2.413, 'total_flos': 57094857486480.0, 'train_loss': 0.5160315429463106, 'epoch': 10.0})"
      ]
     },
     "execution_count": 32,
     "metadata": {},
     "output_type": "execute_result"
    }
   ],
   "source": [
    "trainer.train()"
   ]
  },
  {
   "cell_type": "markdown",
   "metadata": {},
   "source": [
    "## 4. Generate predictions using softmax as opposed to argmax"
   ]
  },
  {
   "cell_type": "code",
   "execution_count": 50,
   "metadata": {},
   "outputs": [
    {
     "name": "stdout",
     "output_type": "stream",
     "text": [
      "Classifying narratives containing pedestrian\n",
      "--------------------------------------------\n"
     ]
    }
   ],
   "source": [
    "model.to('mps')\n",
    "\n",
    "print('Classifying narratives containing pedestrian')\n",
    "print('--------------------------------------------')\n",
    "\n",
    "classifications = []\n",
    "for narrative in holdout['Narrative_1']:\n",
    "    # Tokenize text\n",
    "    inputs = tokenizer.encode(narrative, return_tensors='pt').to('mps')\n",
    "    # compute logits\n",
    "    logits = model(inputs).logits\n",
    "    # Convert logits to label\n",
    "    predictions = F.softmax(logits, dim=1)[0,1].item() # Takes the 0th batch and the 1st predicted probability (pedestrian) from the tensor\n",
    "    \n",
    "    classifications.append(predictions)"
   ]
  },
  {
   "cell_type": "code",
   "execution_count": 51,
   "metadata": {},
   "outputs": [],
   "source": [
    "holdout['Pedestrian Probability'] = classifications"
   ]
  },
  {
   "cell_type": "code",
   "execution_count": 54,
   "metadata": {},
   "outputs": [
    {
     "name": "stderr",
     "output_type": "stream",
     "text": [
      "huggingface/tokenizers: The current process just got forked, after parallelism has already been used. Disabling parallelism to avoid deadlocks...\n",
      "To disable this warning, you can either:\n",
      "\t- Avoid using `tokenizers` before the fork if possible\n",
      "\t- Explicitly set the environment variable TOKENIZERS_PARALLELISM=(true | false)\n"
     ]
    }
   ],
   "source": [
    "holdout.to_clipboard()"
   ]
  },
  {
   "cell_type": "code",
   "execution_count": 57,
   "metadata": {},
   "outputs": [],
   "source": [
    "holdout_labeled = pd.read_csv('holdout_labeled.csv', index_col=0)"
   ]
  },
  {
   "cell_type": "code",
   "execution_count": 61,
   "metadata": {},
   "outputs": [],
   "source": [
    "from sklearn.metrics import precision_recall_curve"
   ]
  },
  {
   "cell_type": "code",
   "execution_count": 63,
   "metadata": {},
   "outputs": [
    {
     "data": {
      "image/png": "[encoded data removed]",
      "text/plain": [
       "<Figure size 640x480 with 1 Axes>"
      ]
     },
     "metadata": {},
     "output_type": "display_data"
    }
   ],
   "source": [
    "precision, recall, thresholds = precision_recall_curve(holdout_labeled['Human Label'], holdout_labeled['Pedestrian Probability'])\n",
    "# Plot precision and recall vs threshold\n",
    "plt.plot(thresholds, precision[:-1], label=\"Precision\", color=\"blue\")\n",
    "plt.plot(thresholds, recall[:-1], label=\"Recall\", color=\"red\")\n",
    "plt.xlabel(\"Threshold\")\n",
    "plt.ylabel(\"Score\")\n",
    "plt.title(\"Precision and Recall vs Threshold\")\n",
    "plt.legend()\n",
    "plt.grid(True)"
   ]
  },
  {
   "cell_type": "code",
   "execution_count": 64,
   "metadata": {},
   "outputs": [],
   "source": [
    "holdout_labeled['proba_50'] = (holdout_labeled['Pedestrian Probability'] > 0.5).astype(int)\n",
    "holdout_labeled['proba_60'] = (holdout_labeled['Pedestrian Probability'] > 0.6).astype(int)\n",
    "holdout_labeled['proba_80'] = (holdout_labeled['Pedestrian Probability'] > 0.8).astype(int)"
   ]
  },
  {
   "cell_type": "code",
   "execution_count": 71,
   "metadata": {},
   "outputs": [],
   "source": [
    "def report(y_true, y_pred):\n",
    "    print(classification_report(y_true, y_pred))\n",
    "    cm_display = ConfusionMatrixDisplay(confusion_matrix(y_true, y_pred))\n",
    "    cm_display.plot(cmap='YlGnBu')\n",
    "    plt.show()"
   ]
  },
  {
   "cell_type": "code",
   "execution_count": 72,
   "metadata": {},
   "outputs": [
    {
     "name": "stdout",
     "output_type": "stream",
     "text": [
      "              precision    recall  f1-score   support\n",
      "\n",
      "           0       0.56      0.71      0.62        49\n",
      "           1       0.84      0.72      0.78       101\n",
      "\n",
      "    accuracy                           0.72       150\n",
      "   macro avg       0.70      0.72      0.70       150\n",
      "weighted avg       0.75      0.72      0.73       150\n",
      "\n"
     ]
    },
    {
     "data": {
      "image/png": "[encoded data removed]",
      "text/plain": [
       "<Figure size 640x480 with 2 Axes>"
      ]
     },
     "metadata": {},
     "output_type": "display_data"
    }
   ],
   "source": [
    "report(holdout_labeled['Human Label'], holdout_labeled['proba_50'])"
   ]
  },
  {
   "cell_type": "code",
   "execution_count": 73,
   "metadata": {},
   "outputs": [
    {
     "name": "stdout",
     "output_type": "stream",
     "text": [
      "              precision    recall  f1-score   support\n",
      "\n",
      "           0       0.53      0.78      0.63        49\n",
      "           1       0.86      0.66      0.75       101\n",
      "\n",
      "    accuracy                           0.70       150\n",
      "   macro avg       0.69      0.72      0.69       150\n",
      "weighted avg       0.75      0.70      0.71       150\n",
      "\n"
     ]
    },
    {
     "data": {
      "image/png": "[encoded data removed]",
      "text/plain": [
       "<Figure size 640x480 with 2 Axes>"
      ]
     },
     "metadata": {},
     "output_type": "display_data"
    }
   ],
   "source": [
    "report(holdout_labeled['Human Label'], holdout_labeled['proba_60'])"
   ]
  },
  {
   "cell_type": "code",
   "execution_count": 74,
   "metadata": {},
   "outputs": [
    {
     "name": "stdout",
     "output_type": "stream",
     "text": [
      "              precision    recall  f1-score   support\n",
      "\n",
      "           0       0.43      0.90      0.58        49\n",
      "           1       0.89      0.42      0.57       101\n",
      "\n",
      "    accuracy                           0.57       150\n",
      "   macro avg       0.66      0.66      0.57       150\n",
      "weighted avg       0.74      0.57      0.57       150\n",
      "\n"
     ]
    },
    {
     "data": {
      "image/png": "[encoded data removed]",
      "text/plain": [
       "<Figure size 640x480 with 2 Axes>"
      ]
     },
     "metadata": {},
     "output_type": "display_data"
    }
   ],
   "source": [
    "report(holdout_labeled['Human Label'], holdout_labeled['proba_80'])"
   ]
  },
  {
   "cell_type": "code",
   "execution_count": 75,
   "metadata": {},
   "outputs": [
    {
     "name": "stdout",
     "output_type": "stream",
     "text": [
      "group_a\n",
      "              precision    recall  f1-score   support\n",
      "\n",
      "           0       0.82      0.79      0.81        29\n",
      "           1       0.73      0.76      0.74        21\n",
      "\n",
      "    accuracy                           0.78        50\n",
      "   macro avg       0.77      0.78      0.78        50\n",
      "weighted avg       0.78      0.78      0.78        50\n",
      "\n"
     ]
    },
    {
     "data": {
      "image/png": "[encoded data removed]",
      "text/plain": [
       "<Figure size 640x480 with 2 Axes>"
      ]
     },
     "metadata": {},
     "output_type": "display_data"
    },
    {
     "name": "stdout",
     "output_type": "stream",
     "text": [
      "group_b\n",
      "              precision    recall  f1-score   support\n",
      "\n",
      "           0       0.28      0.62      0.38         8\n",
      "           1       0.91      0.69      0.78        42\n",
      "\n",
      "    accuracy                           0.68        50\n",
      "   macro avg       0.59      0.66      0.58        50\n",
      "weighted avg       0.81      0.68      0.72        50\n",
      "\n"
     ]
    },
    {
     "data": {
      "image/png": "[encoded data removed]",
      "text/plain": [
       "<Figure size 640x480 with 2 Axes>"
      ]
     },
     "metadata": {},
     "output_type": "display_data"
    },
    {
     "name": "stdout",
     "output_type": "stream",
     "text": [
      "group_c\n",
      "              precision    recall  f1-score   support\n",
      "\n",
      "           0       0.41      0.58      0.48        12\n",
      "           1       0.85      0.74      0.79        38\n",
      "\n",
      "    accuracy                           0.70        50\n",
      "   macro avg       0.63      0.66      0.64        50\n",
      "weighted avg       0.74      0.70      0.72        50\n",
      "\n"
     ]
    },
    {
     "data": {
      "image/png": "[encoded data removed]",
      "text/plain": [
       "<Figure size 640x480 with 2 Axes>"
      ]
     },
     "metadata": {},
     "output_type": "display_data"
    }
   ],
   "source": [
    "for group in holdout_labeled['group'].unique():\n",
    "    print(group)\n",
    "    report(holdout_labeled[holdout_labeled['group']==group]['Human Label'], holdout_labeled[holdout_labeled['group']==group]['proba_50'])"
   ]
  },
  {
   "cell_type": "markdown",
   "metadata": {},
   "source": [
    "## 4.2 Add additional data based on softmax probabilities"
   ]
  },
  {
   "cell_type": "code",
   "execution_count": 80,
   "metadata": {},
   "outputs": [],
   "source": [
    "def auto_label(proba):\n",
    "    if proba > 0.9:\n",
    "        return 'pedest_likely'\n",
    "    if proba < 0.1:\n",
    "        return 'not_pedest_likely'\n",
    "    if 0.45 < proba < 0.55:\n",
    "        return 'hand_label'\n",
    "    else:\n",
    "        return 'n/a'"
   ]
  },
  {
   "cell_type": "code",
   "execution_count": 83,
   "metadata": {},
   "outputs": [],
   "source": [
    "holdout_labeled['auto_label'] = holdout_labeled['Pedestrian Probability'].apply(auto_label)"
   ]
  },
  {
   "cell_type": "code",
   "execution_count": 89,
   "metadata": {},
   "outputs": [
    {
     "data": {
      "text/plain": [
       "array(['20YOF PRESENTED TO ED C/O PEDESTRAIN STRUCK, PT STATED SHE WAS STRUCK BY A CAR WHILE RIDING SCOOTER. DX; ANKLE PAIN, MVC',\n",
       "       '22YOM WAS PEDESTRIAN STRUCK BY MOTORIZED SCOOTER DX: CALF ABRASION, BACK PAIN',\n",
       "       \"58YOF PRESENTS TO THE ED FOLLOWING PEDESTRIAN VS. AUTO ACCIDENT PTA. PT STATES SHE WAS RIDING HER BICYCLE WHEN SHE WAS STRUCK BY A VEHICLE TRAVELING @25-30 MPH. SHE STATES SHE FELL FORWARDS OVER THE HANDLEBARS OF HER BICYCLE, STRUCK HER MOUTH AGAINST THE HANDLEBARS, AND WAS UNHELMETED. DX: NECK PAIN, HIP PAIN'\",\n",
       "       '56 YOM DX FACE/HAND ABRASION - S/P PT PEDESTRIAN STRUCK BY CAR WHILERIDING SCOOTER PTA.'],\n",
       "      dtype=object)"
      ]
     },
     "execution_count": 89,
     "metadata": {},
     "output_type": "execute_result"
    }
   ],
   "source": [
    "holdout_labeled[(holdout_labeled['auto_label'] == 'not_pedest_likely') & holdout_labeled['Human Label']==1]['Narrative_1'].values"
   ]
  },
  {
   "cell_type": "code",
   "execution_count": 90,
   "metadata": {},
   "outputs": [
    {
     "data": {
      "text/plain": [
       "array(['69YOM WAS RIDING HIS BICYCLE WHEN HE WAS HIT BY A CAR DX: CONTUSION OF RIGHT LOWER LEG',\n",
       "       '47 YO M PT WAS RIDING BICYCLE WHEN STRUCK BY A CAR GOING 50MPH PT FLEWUP ON CAR.MULTIPLE FRACTURES NECKPAIN,LOWER LEG DX FRAC NECK ADMIT',\n",
       "       '9 YOM WAS RIDING HIS BIKE WHEN HE WAS HIT BY A CAR AND KNOCKED OFF HISBIKE AND SCRAPED HIS KNEE/KNEE CONTUSION',\n",
       "       '16YOM WAS RIDING HIS BIKE AND CROSSING AN INTERSECTION WHEN HE WAS STRUCK BY AN SUV THAT WAS TURNING. HE FLIPPED OFF THE BICYCLE BUT DOES NOT REMEMBER HOW HE LANDED. C/O LEFT SHOULDER PAIN AND POPPING IN HIS SHOULDER. ABRASIONS NOTED TO LEFT FOREHEAD, RIGHT ELBOW, LEFT FOREARM, LEFT WRIST, LEFT KNEE, AND RIGHT LEG DX: SHOULDER INJURY; MVC; ABRASIONS',\n",
       "       '14 YOM RIDING BIKE UNHELMETED HIT BY A CAR @ 30-45 MPH FELL TO GROUND BRIEF LOC DX CONCUSSION',\n",
       "       '22 YOF WAS WALKING HER BICYCLE ACROSS A CROSSWALK WHEN SHE WAS HIT BYA CAR. DX: CONTUSION, RT THIGH, ABRASIONS TO R ELBOW & BACK',\n",
       "       '29YOM WITH RLE PAIN AFTER MVA IN WHICH PT WAS ON MOPED AND HIT BY CAR ENDORSES USING MARIJUANA TODAY. DX; MVA',\n",
       "       '44 YOM RIDING BIKE WAS HIT BY A CAR WHICH TURNED IN FRONT OF HIM.HELMET NS. DX: L CLAVICLE FX, CLOSED HEAD INJURY, FACIAL LACS, HAND L',\n",
       "       '12 Y/O F WITH MUTIPLE CONTUSIONS TO LOWER LEGS WHEN PRACTICING CROSSCOUNTRY RUN AND WAS HIT BY CAR WHEN RAN IN FRONT OF IT IN THE STREETS.',\n",
       "       '17 YO M RIDING BICYCLE WHEN STRUCK BY A CAR GOING 25MPH PT NOT WEARING A HELMET ROLLED UP ON HOOD OF CAR HITTING HEAD AND RT FOREARMDX CHIDX CONTUSION RT FOREARM',\n",
       "       '23YOM PRESENTED AT ED C/O OF PEDESTRIAN STRUCK.AS PER EMS. PATIENT WAS RIDING A MOPED AND HIT BY A VAN, UNKNOWN LOC, ABRASIONS TO FACE, LACERATION TO HEAD, NO HELMET ON, EMS ON SCENE, PATIENT ADMITS TO DRINKING ALCOHOL.  ED DID NOT REPORT ALCOHOL INTOXICATION-NO BAC/BAL DX: LACERATION OF HEAD, BIKE ACCIDENT'],\n",
       "      dtype=object)"
      ]
     },
     "execution_count": 90,
     "metadata": {},
     "output_type": "execute_result"
    }
   ],
   "source": [
    "holdout_labeled[(holdout_labeled['auto_label'] == 'hand_label')]['Narrative_1'].values"
   ]
  },
  {
   "cell_type": "code",
   "execution_count": null,
   "metadata": {},
   "outputs": [],
   "source": []
  }
 ],
 "metadata": {
  "kernelspec": {
   "display_name": "hf_env",
   "language": "python",
   "name": "python3"
  },
  "language_info": {
   "codemirror_mode": {
    "name": "ipython",
    "version": 3
   },
   "file_extension": ".py",
   "mimetype": "text/x-python",
   "name": "python",
   "nbconvert_exporter": "python",
   "pygments_lexer": "ipython3",
   "version": "3.11.11"
  }
 },
 "nbformat": 4,
 "nbformat_minor": 2
}
